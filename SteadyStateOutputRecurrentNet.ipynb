{
 "cells": [
  {
   "cell_type": "code",
   "execution_count": 1,
   "metadata": {},
   "outputs": [],
   "source": [
    "import numpy as np"
   ]
  },
  {
   "cell_type": "code",
   "execution_count": 2,
   "metadata": {},
   "outputs": [],
   "source": [
    "M=np.array([[-0.5,0,0.5,0.5,0],[0,-0.5,0,0.5,0.5],[0.5,0,-0.5,0.0,0.5],[0.5,0.5,0,-0.5,0],[0,0.5,0.5,0,-0.5]])"
   ]
  },
  {
   "cell_type": "code",
   "execution_count": 3,
   "metadata": {},
   "outputs": [
    {
     "data": {
      "text/plain": [
       "array([[-0.5,  0. ,  0.5,  0.5,  0. ],\n",
       "       [ 0. , -0.5,  0. ,  0.5,  0.5],\n",
       "       [ 0.5,  0. , -0.5,  0. ,  0.5],\n",
       "       [ 0.5,  0.5,  0. , -0.5,  0. ],\n",
       "       [ 0. ,  0.5,  0.5,  0. , -0.5]])"
      ]
     },
     "execution_count": 3,
     "metadata": {},
     "output_type": "execute_result"
    }
   ],
   "source": [
    "M"
   ]
  },
  {
   "cell_type": "code",
   "execution_count": 4,
   "metadata": {},
   "outputs": [],
   "source": [
    "val, vec = np.linalg.eig(M)"
   ]
  },
  {
   "cell_type": "code",
   "execution_count": 5,
   "metadata": {},
   "outputs": [
    {
     "data": {
      "text/plain": [
       "array([-1.30901699, -0.19098301,  0.5       , -1.30901699, -0.19098301])"
      ]
     },
     "execution_count": 5,
     "metadata": {},
     "output_type": "execute_result"
    }
   ],
   "source": [
    "val"
   ]
  },
  {
   "cell_type": "code",
   "execution_count": 6,
   "metadata": {},
   "outputs": [
    {
     "data": {
      "text/plain": [
       "array([[ 0.63245553, -0.63245553,  0.4472136 , -0.13661647,  0.37958642],\n",
       "       [ 0.19543951,  0.51166727,  0.4472136 , -0.62951707, -0.0097433 ],\n",
       "       [-0.51166727, -0.19543951,  0.4472136 , -0.25244648, -0.36382142],\n",
       "       [-0.51166727, -0.19543951,  0.4472136 ,  0.47349657,  0.59841873],\n",
       "       [ 0.19543951,  0.51166727,  0.4472136 ,  0.54508345, -0.60444042]])"
      ]
     },
     "execution_count": 6,
     "metadata": {},
     "output_type": "execute_result"
    }
   ],
   "source": [
    "vec"
   ]
  },
  {
   "cell_type": "code",
   "execution_count": 7,
   "metadata": {},
   "outputs": [],
   "source": [
    "W = np.array([[0.6, 0.1, 0.1, 0.1, 0.1],[0.1, 0.6, 0.1, 0.1, 0.1],[0.1, 0.1, 0.6, 0.1, 0.1],[0.1, 0.1, 0.1, 0.6, 0.1],[0.1,0.1,0.1,0.1,0.6]])"
   ]
  },
  {
   "cell_type": "code",
   "execution_count": 8,
   "metadata": {},
   "outputs": [
    {
     "data": {
      "text/plain": [
       "array([[0.6, 0.1, 0.1, 0.1, 0.1],\n",
       "       [0.1, 0.6, 0.1, 0.1, 0.1],\n",
       "       [0.1, 0.1, 0.6, 0.1, 0.1],\n",
       "       [0.1, 0.1, 0.1, 0.6, 0.1],\n",
       "       [0.1, 0.1, 0.1, 0.1, 0.6]])"
      ]
     },
     "execution_count": 8,
     "metadata": {},
     "output_type": "execute_result"
    }
   ],
   "source": [
    "W"
   ]
  },
  {
   "cell_type": "code",
   "execution_count": 9,
   "metadata": {},
   "outputs": [],
   "source": [
    "u = np.array([0.6, 0.5, 0.6, 0.2, 0.1])"
   ]
  },
  {
   "cell_type": "code",
   "execution_count": 10,
   "metadata": {},
   "outputs": [],
   "source": [
    "h = np.dot(W,u)"
   ]
  },
  {
   "cell_type": "code",
   "execution_count": 11,
   "metadata": {},
   "outputs": [
    {
     "data": {
      "text/plain": [
       "array([0.5 , 0.45, 0.5 , 0.3 , 0.25])"
      ]
     },
     "execution_count": 11,
     "metadata": {},
     "output_type": "execute_result"
    }
   ],
   "source": [
    "h"
   ]
  },
  {
   "cell_type": "code",
   "execution_count": 12,
   "metadata": {},
   "outputs": [],
   "source": [
    "e1 = np.dot(h,vec[:,0])/(1-val[0])"
   ]
  },
  {
   "cell_type": "code",
   "execution_count": 13,
   "metadata": {},
   "outputs": [],
   "source": [
    "e2 = np.dot(h,vec[:,1])/(1-val[1])"
   ]
  },
  {
   "cell_type": "code",
   "execution_count": 14,
   "metadata": {},
   "outputs": [],
   "source": [
    "e3 = np.dot(h,vec[:,2])/(1-val[2])"
   ]
  },
  {
   "cell_type": "code",
   "execution_count": 15,
   "metadata": {},
   "outputs": [],
   "source": [
    "e4 = np.dot(h,vec[:,3])/(1-val[3])"
   ]
  },
  {
   "cell_type": "code",
   "execution_count": 16,
   "metadata": {},
   "outputs": [],
   "source": [
    "e5 = np.dot(h,vec[:,4])/(1-val[4])"
   ]
  },
  {
   "cell_type": "code",
   "execution_count": 17,
   "metadata": {},
   "outputs": [
    {
     "data": {
      "text/plain": [
       "array([0.89470203, 0.80867335, 0.82115282, 0.78421698, 0.69125481])"
      ]
     },
     "execution_count": 17,
     "metadata": {},
     "output_type": "execute_result"
    }
   ],
   "source": [
    "np.dot(e1,vec[:,0]) + np.dot(e2,vec[:,1])+np.dot(e3,vec[:,2])+np.dot(e4,vec[:,3])+np.dot(e5,vec[:,4])"
   ]
  }
 ],
 "metadata": {
  "kernelspec": {
   "display_name": "Python 3",
   "language": "python",
   "name": "python3"
  },
  "language_info": {
   "codemirror_mode": {
    "name": "ipython",
    "version": 3
   },
   "file_extension": ".py",
   "mimetype": "text/x-python",
   "name": "python",
   "nbconvert_exporter": "python",
   "pygments_lexer": "ipython3",
   "version": "3.6.4"
  }
 },
 "nbformat": 4,
 "nbformat_minor": 2
}
