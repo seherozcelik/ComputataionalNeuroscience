{
 "cells": [
  {
   "cell_type": "code",
   "execution_count": 1,
   "metadata": {},
   "outputs": [],
   "source": [
    "from __future__ import division\n",
    "import numpy as np\n",
    "import matplotlib.pyplot as plt\n",
    "\n",
    "import pickle"
   ]
  },
  {
   "cell_type": "code",
   "execution_count": 3,
   "metadata": {},
   "outputs": [],
   "source": [
    "FILENAME = 'data.pickle'\n",
    "\n",
    "with open(FILENAME, 'rb') as f:\n",
    "    data = pickle.load(f)\n",
    "\n",
    "    \n",
    "stim = data['stim']\n",
    "rho = data['rho']"
   ]
  },
  {
   "cell_type": "code",
   "execution_count": 7,
   "metadata": {},
   "outputs": [
    {
     "data": {
      "text/plain": [
       "array([-111.94824219,  -81.80664062,   10.21972656,   83.36425781,\n",
       "         69.375     ,    2.66113281,  -25.91796875,  -32.24609375,\n",
       "        -27.29492188,  -20.24414062,  -32.21679688,   -8.61816406,\n",
       "         35.06347656,   55.92285156,   46.72851562,   53.75976562,\n",
       "         96.84082031,  121.67480469,  109.58984375,   71.92871094])"
      ]
     },
     "execution_count": 7,
     "metadata": {},
     "output_type": "execute_result"
    }
   ],
   "source": [
    "stim[0:20]"
   ]
  },
  {
   "cell_type": "code",
   "execution_count": 25,
   "metadata": {},
   "outputs": [
    {
     "data": {
      "text/plain": [
       "array([0, 0, 0, 0, 0, 0, 0, 0, 0, 0, 0, 0, 0, 0, 0, 0, 0, 1, 0, 0, 0, 0,\n",
       "       1, 0, 0, 1, 0, 0, 0, 0, 0, 1, 0, 0, 1, 0, 0, 0, 0, 1], dtype=uint8)"
      ]
     },
     "execution_count": 25,
     "metadata": {},
     "output_type": "execute_result"
    }
   ],
   "source": [
    "rho[0:40]"
   ]
  },
  {
   "cell_type": "code",
   "execution_count": 14,
   "metadata": {},
   "outputs": [],
   "source": [
    "st = rho[0:40].nonzero()"
   ]
  },
  {
   "cell_type": "code",
   "execution_count": 18,
   "metadata": {},
   "outputs": [
    {
     "data": {
      "text/plain": [
       "(array([17, 22, 25, 31, 34, 39]),)"
      ]
     },
     "execution_count": 18,
     "metadata": {},
     "output_type": "execute_result"
    }
   ],
   "source": [
    "st"
   ]
  },
  {
   "cell_type": "code",
   "execution_count": 21,
   "metadata": {},
   "outputs": [
    {
     "data": {
      "text/plain": [
       "tuple"
      ]
     },
     "execution_count": 21,
     "metadata": {},
     "output_type": "execute_result"
    }
   ],
   "source": [
    "type(st)"
   ]
  },
  {
   "cell_type": "code",
   "execution_count": 22,
   "metadata": {},
   "outputs": [
    {
     "data": {
      "text/plain": [
       "numpy.ndarray"
      ]
     },
     "execution_count": 22,
     "metadata": {},
     "output_type": "execute_result"
    }
   ],
   "source": [
    "type(st[0])"
   ]
  },
  {
   "cell_type": "code",
   "execution_count": 17,
   "metadata": {},
   "outputs": [
    {
     "data": {
      "text/plain": [
       "17"
      ]
     },
     "execution_count": 17,
     "metadata": {},
     "output_type": "execute_result"
    }
   ],
   "source": [
    "st[0][0]"
   ]
  },
  {
   "cell_type": "code",
   "execution_count": 10,
   "metadata": {},
   "outputs": [
    {
     "data": {
      "text/plain": [
       "600000"
      ]
     },
     "execution_count": 10,
     "metadata": {},
     "output_type": "execute_result"
    }
   ],
   "source": [
    "stim.size"
   ]
  },
  {
   "cell_type": "code",
   "execution_count": 26,
   "metadata": {},
   "outputs": [
    {
     "data": {
      "text/plain": [
       "array([0., 0., 0.])"
      ]
     },
     "execution_count": 26,
     "metadata": {},
     "output_type": "execute_result"
    }
   ],
   "source": [
    "np.zeros((3,))"
   ]
  },
  {
   "cell_type": "code",
   "execution_count": 38,
   "metadata": {},
   "outputs": [],
   "source": [
    "sp_tm = rho[150:].nonzero()[0] + 150"
   ]
  },
  {
   "cell_type": "code",
   "execution_count": 51,
   "metadata": {},
   "outputs": [
    {
     "data": {
      "text/plain": [
       "158"
      ]
     },
     "execution_count": 51,
     "metadata": {},
     "output_type": "execute_result"
    }
   ],
   "source": [
    "sp_tm[0]"
   ]
  },
  {
   "cell_type": "code",
   "execution_count": 39,
   "metadata": {},
   "outputs": [
    {
     "data": {
      "text/plain": [
       "53583"
      ]
     },
     "execution_count": 39,
     "metadata": {},
     "output_type": "execute_result"
    }
   ],
   "source": [
    "sp_tm.size"
   ]
  },
  {
   "cell_type": "code",
   "execution_count": 53,
   "metadata": {},
   "outputs": [],
   "source": [
    "def compute_sta(stim, rho, num_timesteps):\n",
    "    \"\"\"Compute the spike-triggered average from a stimulus and spike-train.\n",
    "    \n",
    "    Args:\n",
    "        stim: stimulus time-series\n",
    "        rho: spike-train time-series\n",
    "        num_timesteps: how many timesteps to use in STA\n",
    "        \n",
    "    Returns:\n",
    "        spike-triggered average for specified number of timesteps before spike\"\"\"\n",
    "    \n",
    "    sta = np.zeros((num_timesteps,))\n",
    "\n",
    "    # This command finds the indices of all of the spikes that occur\n",
    "    # after 300 ms into the recording.\n",
    "    spike_times = rho[num_timesteps:].nonzero()[0] + num_timesteps\n",
    "\n",
    "    # Fill in this value. Note that you should not count spikes that occur\n",
    "    # before 300 ms into the recording.\n",
    "    num_spikes = spike_times.size\n",
    "    \n",
    "    # Compute the spike-triggered average of the spikes found.\n",
    "    # To do this, compute the average of all of the vectors\n",
    "    # starting 300 ms (exclusive) before a spike and ending at the time of\n",
    "    # the event (inclusive). Each of these vectors defines a list of\n",
    "    # samples that is contained within a window of 300 ms before each\n",
    "    # spike. The average of these vectors should be completed in an\n",
    "    # element-wise manner.\n",
    "    # \n",
    "    # Your code goes here.\n",
    "    for i in range(num_spikes):\n",
    "        st = spike_times[i]\n",
    "        sta += stim[st-num_timesteps + 1 : st + 1] / num_spikes\n",
    "    \n",
    "    return sta"
   ]
  },
  {
   "cell_type": "code",
   "execution_count": 32,
   "metadata": {},
   "outputs": [],
   "source": [
    "tm = (np.arange(-3, 0) + 1) * 2"
   ]
  },
  {
   "cell_type": "code",
   "execution_count": 48,
   "metadata": {},
   "outputs": [],
   "source": [
    "a = np.arange(1, 5)"
   ]
  },
  {
   "cell_type": "code",
   "execution_count": 46,
   "metadata": {},
   "outputs": [],
   "source": [
    "a += a"
   ]
  },
  {
   "cell_type": "code",
   "execution_count": 52,
   "metadata": {},
   "outputs": [
    {
     "data": {
      "text/plain": [
       "array([1, 2, 3, 4])"
      ]
     },
     "execution_count": 52,
     "metadata": {},
     "output_type": "execute_result"
    }
   ],
   "source": [
    "a"
   ]
  },
  {
   "cell_type": "code",
   "execution_count": 33,
   "metadata": {},
   "outputs": [
    {
     "data": {
      "text/plain": [
       "array([-4, -2,  0])"
      ]
     },
     "execution_count": 33,
     "metadata": {},
     "output_type": "execute_result"
    }
   ],
   "source": [
    "tm"
   ]
  },
  {
   "cell_type": "code",
   "execution_count": 54,
   "metadata": {},
   "outputs": [
    {
     "data": {
      "image/png": "[encoded data removed]",
      "text/plain": [
       "<matplotlib.figure.Figure at 0x2afa87996828>"
      ]
     },
     "metadata": {},
     "output_type": "display_data"
    }
   ],
   "source": [
    "# Fill in these values\n",
    "sampling_period = 2 # in ms\n",
    "num_timesteps = 150\n",
    "\n",
    "sta = compute_sta(stim, rho, num_timesteps)\n",
    "\n",
    "time = (np.arange(-num_timesteps, 0) + 1) * sampling_period\n",
    "\n",
    "plt.plot(time, sta)\n",
    "plt.xlabel('Time (ms)')\n",
    "plt.ylabel('Stimulus')\n",
    "plt.title('Spike-Triggered Average')\n",
    "\n",
    "plt.show()"
   ]
  },
  {
   "cell_type": "code",
   "execution_count": null,
   "metadata": {},
   "outputs": [],
   "source": []
  }
 ],
 "metadata": {
  "kernelspec": {
   "display_name": "Python 3",
   "language": "python",
   "name": "python3"
  },
  "language_info": {
   "codemirror_mode": {
    "name": "ipython",
    "version": 3
   },
   "file_extension": ".py",
   "mimetype": "text/x-python",
   "name": "python",
   "nbconvert_exporter": "python",
   "pygments_lexer": "ipython3",
   "version": "3.6.4"
  }
 },
 "nbformat": 4,
 "nbformat_minor": 2
}
