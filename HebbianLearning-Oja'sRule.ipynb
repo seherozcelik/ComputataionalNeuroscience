{
 "cells": [
  {
   "cell_type": "markdown",
   "metadata": {},
   "source": [
    "Oja's rule:\n",
    "\n",
    "$$\\tau_w \\frac{dw}{dt} = vu-\\alpha v^2w\\\\\n",
    "v=u \\cdot w$$ \n",
    "\n",
    "Discrete Time: ($\\eta = \\frac{1}{\\tau_W}$)\n",
    "\n",
    "$$\\Delta w = \\Delta t\\ \\eta\\ (vu-\\alpha v^2w)\\\\\n",
    "w_{i+1} = w_i + \\Delta t\\ \\eta\\ (vu-\\alpha v^2w)$$\n",
    "$\\eta = 1,\\ \\alpha = 1,\\ \\Delta t = 0.01$, random $w_0$"
   ]
  },
  {
   "cell_type": "code",
   "execution_count": 1,
   "metadata": {},
   "outputs": [],
   "source": [
    "import numpy as np"
   ]
  },
  {
   "cell_type": "code",
   "execution_count": 2,
   "metadata": {},
   "outputs": [],
   "source": [
    "import pickle\n",
    "with open('c10p1.pickle', 'rb') as f:\n",
    "    data = pickle.load(f)"
   ]
  },
  {
   "cell_type": "code",
   "execution_count": 3,
   "metadata": {
    "collapsed": true
   },
   "outputs": [
    {
     "data": {
      "text/plain": [
       "array([[ 1.2610673 ,  0.08785084],\n",
       "       [ 0.94870162, -0.01808508],\n",
       "       [ 0.86185491,  0.16224918],\n",
       "       [ 0.95081336, -0.4325772 ],\n",
       "       [ 1.3874176 , -0.07707664],\n",
       "       [ 1.4257554 , -0.21140316],\n",
       "       [ 1.0510257 , -0.23929085],\n",
       "       [ 0.8643021 ,  0.20747363],\n",
       "       [ 1.0557558 , -0.0440909 ],\n",
       "       [ 0.98515345, -0.45922628],\n",
       "       [ 1.2154257 ,  0.1351072 ],\n",
       "       [ 1.2889587 ,  0.22091317],\n",
       "       [ 1.3419986 , -0.12473362],\n",
       "       [ 0.66064156,  0.28451805],\n",
       "       [ 1.2035246 ,  0.80300324],\n",
       "       [ 0.87489386,  0.41143334],\n",
       "       [ 1.3307248 , -0.22338402],\n",
       "       [ 0.9996517 , -0.27229713],\n",
       "       [ 0.80970832, -0.18176388],\n",
       "       [ 1.1561395 ,  0.31659399],\n",
       "       [ 0.96945682, -0.01844687],\n",
       "       [ 1.1501202 ,  0.11455769],\n",
       "       [ 0.89451168,  0.39948466],\n",
       "       [ 0.74866926,  0.0062513 ],\n",
       "       [ 1.4240451 , -0.05110891],\n",
       "       [ 0.95394331,  0.35143469],\n",
       "       [ 0.85480809, -0.14734469],\n",
       "       [ 0.93359112, -0.09137605],\n",
       "       [ 0.93737253,  0.09293617],\n",
       "       [ 0.77042668, -0.077022  ],\n",
       "       [ 1.0234778 , -0.29261726],\n",
       "       [ 1.3611381 ,  0.20925376],\n",
       "       [ 0.65553227, -0.40112295],\n",
       "       [ 0.91105658, -0.48095323],\n",
       "       [ 1.1521568 , -0.23549257],\n",
       "       [ 0.86928331,  0.04834487],\n",
       "       [ 1.1996496 ,  0.53552165],\n",
       "       [ 0.85463939,  0.09036359],\n",
       "       [ 1.0673105 , -0.02242984],\n",
       "       [ 1.3079029 ,  0.6144213 ],\n",
       "       [ 1.1532697 ,  0.24437677],\n",
       "       [ 0.51063739,  0.05580233],\n",
       "       [ 1.1043312 ,  0.10781936],\n",
       "       [ 1.228589  , -0.04143211],\n",
       "       [ 0.63112986,  0.06989601],\n",
       "       [ 0.91630523, -0.22843712],\n",
       "       [ 0.93854954,  0.03885598],\n",
       "       [ 1.1032298 , -0.14304489],\n",
       "       [ 1.0082623 ,  0.08207604],\n",
       "       [ 1.3657724 , -0.0951204 ],\n",
       "       [ 0.16112417,  0.93146135],\n",
       "       [ 0.01274431,  0.71172188],\n",
       "       [-0.10664676,  1.3752386 ],\n",
       "       [-0.08981434,  0.62681146],\n",
       "       [-0.4441976 ,  0.68385513],\n",
       "       [-0.20725695,  0.70481888],\n",
       "       [ 0.02352401,  1.0151033 ],\n",
       "       [ 0.13890694,  0.87296951],\n",
       "       [-0.31440981,  1.0613184 ],\n",
       "       [-0.13083182,  1.3129298 ],\n",
       "       [ 0.13539111,  1.1399145 ],\n",
       "       [-0.09846609,  1.3231128 ],\n",
       "       [-0.44501379,  0.8283991 ],\n",
       "       [ 0.59267664,  0.35780148],\n",
       "       [ 0.25489893,  0.66979484],\n",
       "       [-0.20199882,  1.0335235 ],\n",
       "       [-0.42885576,  1.0911313 ],\n",
       "       [ 0.10322712,  0.59400205],\n",
       "       [-0.19723433,  1.340396  ],\n",
       "       [-0.11353115,  0.67319187],\n",
       "       [ 0.40688787,  0.98696848],\n",
       "       [-0.04679605,  0.66406917],\n",
       "       [ 0.32124189,  1.3173497 ],\n",
       "       [ 0.00512439,  0.9182194 ],\n",
       "       [ 0.28407226,  1.0560155 ],\n",
       "       [ 0.09486847,  0.93456735],\n",
       "       [-0.09592684,  1.024736  ],\n",
       "       [ 0.40200412,  1.2523789 ],\n",
       "       [ 0.2462003 ,  1.0425304 ],\n",
       "       [ 0.20865607,  1.5049251 ],\n",
       "       [-0.28119147,  1.2229519 ],\n",
       "       [ 0.11669107,  1.2967161 ],\n",
       "       [ 0.12690337,  0.91158256],\n",
       "       [ 0.22537798,  1.1935403 ],\n",
       "       [-0.09916004,  1.1949584 ],\n",
       "       [-0.16107908,  0.84973897],\n",
       "       [ 0.26860421,  0.94216399],\n",
       "       [ 0.30917642,  0.96035139],\n",
       "       [ 0.00199819,  1.1045532 ],\n",
       "       [-0.17998092,  0.60799009],\n",
       "       [ 0.40607064,  1.1784296 ],\n",
       "       [ 0.22849174,  1.3944892 ],\n",
       "       [-0.27332032,  1.3102919 ],\n",
       "       [-0.40823356,  1.1200681 ],\n",
       "       [-0.20742396,  1.3783053 ],\n",
       "       [-0.16515944,  1.048997  ],\n",
       "       [-0.44035092,  1.612193  ],\n",
       "       [ 0.30303782,  1.002318  ],\n",
       "       [ 0.01125276,  0.54663902],\n",
       "       [-0.40678274,  1.0435023 ]])"
      ]
     },
     "execution_count": 3,
     "metadata": {},
     "output_type": "execute_result"
    }
   ],
   "source": [
    "data['c10p1']"
   ]
  },
  {
   "cell_type": "code",
   "execution_count": 4,
   "metadata": {},
   "outputs": [],
   "source": [
    "import matplotlib.pyplot as plt"
   ]
  },
  {
   "cell_type": "code",
   "execution_count": 5,
   "metadata": {},
   "outputs": [
    {
     "data": {
      "image/png": "[encoded data removed]",
      "text/plain": [
       "<matplotlib.figure.Figure at 0x2b0ef36a6d68>"
      ]
     },
     "metadata": {},
     "output_type": "display_data"
    }
   ],
   "source": [
    "plt.plot(data['c10p1'][:,0], data['c10p1'][:,1], 'o')\n",
    "\n",
    "plt.show()"
   ]
  },
  {
   "cell_type": "code",
   "execution_count": 6,
   "metadata": {},
   "outputs": [],
   "source": [
    "mu_x = np.sum(data['c10p1'][:,0]) / data['c10p1'][:,0].size"
   ]
  },
  {
   "cell_type": "code",
   "execution_count": 7,
   "metadata": {},
   "outputs": [],
   "source": [
    "x = data['c10p1'][:,0] - mu_x"
   ]
  },
  {
   "cell_type": "code",
   "execution_count": 8,
   "metadata": {},
   "outputs": [],
   "source": [
    "mu_y = np.sum(data['c10p1'][:,1]) / data['c10p1'][:,1].size"
   ]
  },
  {
   "cell_type": "code",
   "execution_count": 9,
   "metadata": {},
   "outputs": [],
   "source": [
    "y = data['c10p1'][:,1] - mu_y"
   ]
  },
  {
   "cell_type": "code",
   "execution_count": 10,
   "metadata": {},
   "outputs": [
    {
     "data": {
      "image/png": "[encoded data removed]",
      "text/plain": [
       "<matplotlib.figure.Figure at 0x2b0efc9c0978>"
      ]
     },
     "metadata": {},
     "output_type": "display_data"
    }
   ],
   "source": [
    "plt.plot(x, y, 'o')\n",
    "\n",
    "plt.show()"
   ]
  },
  {
   "cell_type": "code",
   "execution_count": 106,
   "metadata": {},
   "outputs": [],
   "source": [
    "w_pre = np.random.rand(2)\n",
    "u=np.array([0.0,0.0])\n",
    "mod = x.size\n",
    "delta_t = 0.01"
   ]
  },
  {
   "cell_type": "code",
   "execution_count": 107,
   "metadata": {},
   "outputs": [
    {
     "data": {
      "text/plain": [
       "array([0.28916029, 0.61897553])"
      ]
     },
     "execution_count": 107,
     "metadata": {},
     "output_type": "execute_result"
    }
   ],
   "source": [
    "w_pre"
   ]
  },
  {
   "cell_type": "code",
   "execution_count": 108,
   "metadata": {},
   "outputs": [],
   "source": [
    "for i in range(100000):\n",
    "    n=np.mod(i,mod)\n",
    "    u[0]=x[n]\n",
    "    u[1]=y[n]\n",
    "    v = np.dot(u,w_pre)\n",
    "    w = w_pre + delta_t*(v*u-(v**2)*w_pre)\n",
    "    w_pre = w"
   ]
  },
  {
   "cell_type": "code",
   "execution_count": 109,
   "metadata": {},
   "outputs": [
    {
     "data": {
      "text/plain": [
       "array([-0.70937641,  0.70502683])"
      ]
     },
     "execution_count": 109,
     "metadata": {},
     "output_type": "execute_result"
    }
   ],
   "source": [
    "w_pre"
   ]
  },
  {
   "cell_type": "code",
   "execution_count": 110,
   "metadata": {},
   "outputs": [],
   "source": [
    "for i in range(100):\n",
    "    n=np.mod(i,mod)\n",
    "    u[0]=x[n]\n",
    "    u[1]=y[n]\n",
    "    v = np.dot(u,w_pre)\n",
    "    w = w_pre + delta_t*(v*u-v**2*w)\n",
    "    w_pre = w"
   ]
  },
  {
   "cell_type": "code",
   "execution_count": 111,
   "metadata": {},
   "outputs": [
    {
     "data": {
      "text/plain": [
       "array([-0.70937641,  0.70502683])"
      ]
     },
     "execution_count": 111,
     "metadata": {},
     "output_type": "execute_result"
    }
   ],
   "source": [
    "w_pre"
   ]
  },
  {
   "cell_type": "code",
   "execution_count": 112,
   "metadata": {},
   "outputs": [],
   "source": [
    "X = np.zeros((2, 2)) #correlation matrix\n",
    "for i in range(x.size):\n",
    "    u[0]=x[n]\n",
    "    u[1]=y[n]\n",
    "    X += np.outer(u,u)"
   ]
  },
  {
   "cell_type": "code",
   "execution_count": 113,
   "metadata": {},
   "outputs": [],
   "source": [
    "X = X/x.size"
   ]
  },
  {
   "cell_type": "code",
   "execution_count": 114,
   "metadata": {},
   "outputs": [
    {
     "data": {
      "text/plain": [
       "array([[ 0.85001849, -0.48219233],\n",
       "       [-0.48219233,  0.27353457]])"
      ]
     },
     "execution_count": 114,
     "metadata": {},
     "output_type": "execute_result"
    }
   ],
   "source": [
    "X"
   ]
  },
  {
   "cell_type": "code",
   "execution_count": 115,
   "metadata": {},
   "outputs": [],
   "source": [
    "l,E = np.linalg.eig(X)"
   ]
  },
  {
   "cell_type": "code",
   "execution_count": 116,
   "metadata": {},
   "outputs": [
    {
     "data": {
      "text/plain": [
       "array([1.12355306e+00, 8.32667268e-16])"
      ]
     },
     "execution_count": 116,
     "metadata": {},
     "output_type": "execute_result"
    }
   ],
   "source": [
    "l"
   ]
  },
  {
   "cell_type": "code",
   "execution_count": 117,
   "metadata": {},
   "outputs": [
    {
     "data": {
      "text/plain": [
       "array([[ 0.86979597,  0.49341156],\n",
       "       [-0.49341156,  0.86979597]])"
      ]
     },
     "execution_count": 117,
     "metadata": {},
     "output_type": "execute_result"
    }
   ],
   "source": [
    "E"
   ]
  },
  {
   "cell_type": "code",
   "execution_count": 118,
   "metadata": {},
   "outputs": [
    {
     "data": {
      "text/plain": [
       "1.0002777276484645"
      ]
     },
     "execution_count": 118,
     "metadata": {},
     "output_type": "execute_result"
    }
   ],
   "source": [
    "np.dot(w_pre,w_pre)"
   ]
  },
  {
   "cell_type": "code",
   "execution_count": 121,
   "metadata": {},
   "outputs": [
    {
     "data": {
      "image/png": "[encoded data removed]",
      "text/plain": [
       "<matplotlib.figure.Figure at 0x2b0efc9eaef0>"
      ]
     },
     "metadata": {},
     "output_type": "display_data"
    }
   ],
   "source": [
    "plt.plot(x, y, 'o', w_pre[0], w_pre[1], 'x', E[0,0], E[1,0], '^', 0.70937641, -0.70502683, 'x')\n",
    "#last one added manually, that is another convergence point\n",
    "plt.show()"
   ]
  },
  {
   "cell_type": "code",
   "execution_count": null,
   "metadata": {},
   "outputs": [],
   "source": []
  }
 ],
 "metadata": {
  "kernelspec": {
   "display_name": "Python 3",
   "language": "python",
   "name": "python3"
  },
  "language_info": {
   "codemirror_mode": {
    "name": "ipython",
    "version": 3
   },
   "file_extension": ".py",
   "mimetype": "text/x-python",
   "name": "python",
   "nbconvert_exporter": "python",
   "pygments_lexer": "ipython3",
   "version": "3.6.4"
  }
 },
 "nbformat": 4,
 "nbformat_minor": 2
}
