{
 "cells": [
  {
   "cell_type": "code",
   "execution_count": 3,
   "metadata": {},
   "outputs": [
    {
     "name": "stdout",
     "output_type": "stream",
     "text": [
      "C = 0.100 nF\n",
      "R = 100.000 M ohms\n",
      "tau = 10.000 ms\n",
      "(Theoretical)\n",
      "tau = 10.000 ms\n",
      "(Experimental)\n"
     ]
    },
    {
     "data": {
      "image/png": "[encoded data removed]",
      "text/plain": [
       "<matplotlib.figure.Figure at 0x2ba408523c18>"
      ]
     },
     "metadata": {},
     "output_type": "display_data"
    }
   ],
   "source": [
    "from __future__ import print_function\n",
    "\"\"\"\n",
    "Created on Wed Apr 22 15:53:00 2015\n",
    "\n",
    "Charging and discharging curves for passive membrane patch\n",
    "R Rao 2007\n",
    "\n",
    "translated to Python by rkp 2015\n",
    "\"\"\"\n",
    "\n",
    "import numpy as np\n",
    "import matplotlib.pyplot as plt\n",
    "\n",
    "# input current\n",
    "I = 10 # nA\n",
    "\n",
    "# capacitance and leak resistance\n",
    "\n",
    "C = 0.1 # nF\n",
    "R = 100 # M ohms\n",
    "tau = R*C # = 0.1*100 nF-Mohms = 100*100 pF Mohms = 10 ms\n",
    "print('C = %.3f nF' % C)\n",
    "print('R = %.3f M ohms' % R)\n",
    "print('tau = %.3f ms' % tau)\n",
    "print('(Theoretical)')\n",
    "\n",
    "# membrane potential equation dV/dt = - V/RC + I/C\n",
    "\n",
    "tstop = 150 # ms\n",
    "\n",
    "V_inf = I*R # peak V (in mV)\n",
    "tau = 0 # experimental (ms)\n",
    "\n",
    "h = 0.2 # ms (step size)\n",
    "\n",
    "V = 0 # mV\n",
    "V_trace = [V] # mV\n",
    "\n",
    "for t in np.arange(h, tstop, h):\n",
    "\n",
    "   # Euler method: V(t+h) = V(t) + h*dV/dt\n",
    "   V = V +h*(- (V/(R*C)) + (I/C))\n",
    "\n",
    "   # Verify membrane time constant\n",
    "   if (not tau and (V > 0.6321*V_inf)):\n",
    "     tau = t\n",
    "     print('tau = %.3f ms' % tau)\n",
    "     print('(Experimental)')\n",
    "\n",
    "   \n",
    "   # Stop current injection \n",
    "#   if t >= 0.6*tstop:\n",
    "#     I = 0\n",
    "\n",
    "   V_trace += [V]\n",
    "   if t % 10 == 0:\n",
    "       plt.plot(np.arange(0,t+h, h), V_trace, color='r')\n",
    "       plt.xlim(0, tstop)\n",
    "       plt.ylim(0, V_inf)\n",
    "       plt.draw()\n",
    "       \n",
    "plt.show()"
   ]
  },
  {
   "cell_type": "code",
   "execution_count": null,
   "metadata": {},
   "outputs": [],
   "source": []
  }
 ],
 "metadata": {
  "kernelspec": {
   "display_name": "Python 3",
   "language": "python",
   "name": "python3"
  },
  "language_info": {
   "codemirror_mode": {
    "name": "ipython",
    "version": 3
   },
   "file_extension": ".py",
   "mimetype": "text/x-python",
   "name": "python",
   "nbconvert_exporter": "python",
   "pygments_lexer": "ipython3",
   "version": "3.6.4"
  }
 },
 "nbformat": 4,
 "nbformat_minor": 2
}
